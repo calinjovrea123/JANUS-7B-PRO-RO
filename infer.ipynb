{
 "cells": [
  {
   "cell_type": "code",
   "execution_count": 3,
   "id": "3536d355-01f0-4d03-b7d9-7ba2a54ea495",
   "metadata": {},
   "outputs": [],
   "source": [
    "import torch\n",
    "from transformers import AutoModelForCausalLM, AutoTokenizer\n",
    "from fastapi import FastAPI, Request\n",
    "import uvicorn\n",
    "from peft import PeftModel\n",
    "\n",
    "# Specify your base model identifier (this should be the original model you started with)\n",
    "base_model_id = \"deepseek-ai/DeepSeek-R1-Distill-Qwen-1.5B\"\n",
    "\n",
    "# Load the tokenizer and the full base model (this ensures we have a valid config with a \"model_type\")\n",
    "tokenizer = AutoTokenizer.from_pretrained(base_model_id)\n",
    "base_model = AutoModelForCausalLM.from_pretrained(base_model_id, trust_remote_code=True)\n",
    "\n",
    "# Path to your saved adapter (fine-tuned) weights/configuration\n",
    "adapter_path = \"./deepseek-r1-1.5B-qwen-distill-finetuned\"\n",
    "\n",
    "# Load the adapter (PEFT) weights on top of the base model\n",
    "model = PeftModel.from_pretrained(base_model, adapter_path)\n",
    "\n",
    "# Set the model to evaluation mode\n",
    "model.eval()\n",
    "\n",
    "\n",
    "app = FastAPI()\n",
    "\n",
    "def generate_text(prompt):\n",
    "    # data = await request.json()\n",
    "    \n",
    "    # Tokenize and generate (adjust parameters as needed)\n",
    "    inputs = tokenizer(prompt, return_tensors=\"pt\")\n",
    "    outputs = model.generate(\n",
    "        **inputs, \n",
    "        max_new_tokens=100, \n",
    "        do_sample=True, \n",
    "        temperature=0.7\n",
    "    )\n",
    "    response_text = tokenizer.decode(outputs[0], skip_special_tokens=True)\n",
    "    return {\"response\": response_text}"
   ]
  },
  {
   "cell_type": "code",
   "execution_count": 4,
   "id": "7208f9fc-843c-4f3f-9049-2da5de4f81b7",
   "metadata": {},
   "outputs": [
    {
     "name": "stderr",
     "output_type": "stream",
     "text": [
      "Setting `pad_token_id` to `eos_token_id`:151643 for open-end generation.\n"
     ]
    },
    {
     "data": {
      "text/plain": [
       "{'response': \"How do I reset my password in a browser? I just want to log in, but I don't remember my password. There's an option for me, but I can't remember what it is.\\nOkay, so I need袖 to reset my password in a browser. I want to log in but forget my password, so I need to find the right way女主角. Let's see, I remember there's an option for me, but I don't remember what it is.\\n\\nWait, maybe I should start by going to\"}"
      ]
     },
     "execution_count": 4,
     "metadata": {},
     "output_type": "execute_result"
    }
   ],
   "source": [
    "generate_text('How do I reset my password')"
   ]
  },
  {
   "cell_type": "code",
   "execution_count": null,
   "id": "f61b9166-db4a-4d6e-a899-d8b710cb3d7f",
   "metadata": {},
   "outputs": [],
   "source": []
  }
 ],
 "metadata": {
  "kernelspec": {
   "display_name": "Python 3 (ipykernel)",
   "language": "python",
   "name": "python3"
  },
  "language_info": {
   "codemirror_mode": {
    "name": "ipython",
    "version": 3
   },
   "file_extension": ".py",
   "mimetype": "text/x-python",
   "name": "python",
   "nbconvert_exporter": "python",
   "pygments_lexer": "ipython3",
   "version": "3.10.11"
  }
 },
 "nbformat": 4,
 "nbformat_minor": 5
}
